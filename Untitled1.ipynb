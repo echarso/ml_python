{
 "cells": [
  {
   "cell_type": "code",
   "execution_count": 1,
   "id": "pharmaceutical-namibia",
   "metadata": {},
   "outputs": [
    {
     "name": "stdout",
     "output_type": "stream",
     "text": [
      "INFO: 'arttu-log-diabetes-04-08-2021' does not exist. Creating a new experiment\n",
      "2/2 - 0s - loss: 7432.8169 - mae: 70.7292\n"
     ]
    },
    {
     "name": "stderr",
     "output_type": "stream",
     "text": [
      "/Users/charalampossouris/miniforge3/envs/tf24/lib/python3.8/site-packages/tensorflow/python/keras/engine/training.py:2325: UserWarning: `Model.state_updates` will be removed in a future version. This property should not be used in TensorFlow 2.0, as `updates` are applied automatically.\n",
      "  warnings.warn('`Model.state_updates` will be removed in a future version. '\n",
      "/Users/charalampossouris/miniforge3/envs/tf24/lib/python3.8/site-packages/tensorflow/python/keras/engine/base_layer.py:1397: UserWarning: `layer.updates` will be removed in a future version. This property should not be used in TensorFlow 2.0, as `updates` are applied automatically.\n",
      "  warnings.warn('`layer.updates` will be removed in a future version. '\n"
     ]
    },
    {
     "name": "stdout",
     "output_type": "stream",
     "text": [
      "WARNING:tensorflow:FOR KERAS USERS: The object that you are saving contains one or more Keras models or layers. If you are loading the SavedModel with `tf.keras.models.load_model`, continue reading (otherwise, you may ignore the following instructions). Please change your code to save with `tf.keras.models.save_model` or `model.save`, and confirm that the file \"keras.metadata\" exists in the export directory. In the future, Keras will only load the SavedModels that have this file. In other words, `tf.saved_model.save` will no longer write SavedModels that can be recovered as Keras models (this will apply in TF 2.5).\n",
      "\n",
      "FOR DEVS: If you are overwriting _tracking_metadata in your class, this property has been used to save metadata in the SavedModel. The metadta field will be deprecated soon, so please move the metadata to a different file.\n",
      "INFO:tensorflow:Assets written to: model_folder/assets\n",
      "WARNING:tensorflow:FOR KERAS USERS: The object that you are saving contains one or more Keras models or layers. If you are loading the SavedModel with `tf.keras.models.load_model`, continue reading (otherwise, you may ignore the following instructions). Please change your code to save with `tf.keras.models.save_model` or `model.save`, and confirm that the file \"keras.metadata\" exists in the export directory. In the future, Keras will only load the SavedModels that have this file. In other words, `tf.saved_model.save` will no longer write SavedModels that can be recovered as Keras models (this will apply in TF 2.5).\n",
      "\n",
      "FOR DEVS: If you are overwriting _tracking_metadata in your class, this property has been used to save metadata in the SavedModel. The metadta field will be deprecated soon, so please move the metadata to a different file.\n",
      "INFO:tensorflow:Assets written to: model_folder/assets\n"
     ]
    },
    {
     "name": "stderr",
     "output_type": "stream",
     "text": [
      "2021/04/08 15:07:53 INFO mlflow.tensorflow: Validating the specified TensorFlow model by attempting to load it in a new TensorFlow graph...\n",
      "2021/04/08 15:07:54 INFO mlflow.tensorflow: Validation succeeded!\n"
     ]
    },
    {
     "name": "stdout",
     "output_type": "stream",
     "text": [
      "training done \n"
     ]
    }
   ],
   "source": [
    "from sklearn.datasets import load_diabetes\n",
    "from sklearn.model_selection import train_test_split\n",
    "import pandas as pd\n",
    "import mlflow\n",
    "\n",
    "\n",
    "\n",
    "data_d = load_diabetes()\n",
    "pd.DataFrame(data_d.data).to_csv(\"diabetes_data.csv\")\n",
    "data = data_d.data\n",
    "target = data_d.target\n",
    "\n",
    "\n",
    "target = target-target.mean(axis=0)/target.std()\n",
    "train_data , test_data , train_target, test_target = train_test_split(data,target,\n",
    "                                                                      test_size=0.1)\n",
    "\n",
    "\n",
    "from tensorflow.keras.models import Sequential\n",
    "from tensorflow.keras.layers import Dense\n",
    "from tensorflow.keras.callbacks import EarlyStopping\n",
    "from tensorflow.keras.layers import Dropout\n",
    "from tensorflow.keras import regularizers\n",
    "\n",
    "\n",
    "\n",
    "earlystopping = EarlyStopping(monitor='val_loss')\n",
    "#earlystoping = EarlyStopping(monitor='val_accuracy',patience=5,min_delta=0,01,mode='max')\n",
    "\n",
    "def get_model():\n",
    "     model = Sequential([\n",
    "            Dense(128,activation='relu', input_shape =(train_data.shape[1],)),\n",
    "            Dense(128,activation='relu'),\n",
    "            Dense(128,activation='relu'),\n",
    "            Dense(128,activation='relu'),\n",
    "            Dense(128,activation='relu'),\n",
    "            Dense(128,activation='relu'),\n",
    "            Dense(1)\n",
    "        ])\n",
    "     return model\n",
    "\n",
    "\n",
    "\n",
    "def get_regularized_model(wd,rate):\n",
    "    model = Sequential([\n",
    "        Dense(128, kernel_regularizer=regularizers.l2(wd),\n",
    "                    activation='relu',\n",
    "                    input_shape=(train_data.shape[1],)),\n",
    "        Dropout(rate),\n",
    "        Dense(128, kernel_regularizer=regularizers.l2(wd),activation='relu'),\n",
    "        Dropout(rate),\n",
    "        Dense(128, kernel_regularizer=regularizers.l2(wd),activation='relu'),\n",
    "        Dropout(rate),\n",
    "        Dense(128, kernel_regularizer=regularizers.l2(wd),activation='relu'),\n",
    "        Dropout(rate),\n",
    "        Dense(128, kernel_regularizer=regularizers.l2(wd),activation='relu'),\n",
    "        Dropout(rate),\n",
    "        Dense(128, kernel_regularizer=regularizers.l2(wd), activation='relu'),\n",
    "        Dropout(rate),\n",
    "        Dense(128, kernel_regularizer=regularizers.l2(wd), activation='relu'),\n",
    "        Dropout(rate),\n",
    "        Dense(1)\n",
    "    ])\n",
    "    return model\n",
    "#model = get_model()\n",
    "model = get_regularized_model(1e-5,0.3)\n",
    "mlflow.set_experiment('arttu-log-diabetes-04-08-2021')\n",
    "\n",
    "\n",
    "model.compile(optimizer='adam',loss='mse',metrics=['mae'])\n",
    "with mlflow.start_run():\n",
    "    # Automatically capture the model's parameters, metrics, artifacts,\n",
    "    # and source code with the `autolog()` function\n",
    "    mlflow.set_tags({'name ': 'tensorflow2 demo diabetes 2' })\n",
    "    model.fit(train_data, train_target, validation_split=0.15,\n",
    "            batch_size=64, epochs=100,verbose=False,\n",
    "            callbacks=[earlystopping])\n",
    "    model.evaluate(test_data, test_target, verbose=2)\n",
    "    model.save('model_folder/')\n",
    "   \n",
    "    model.save('model_folder/')\n",
    "    mlflow.tensorflow.autolog()\n",
    "    mlflow.tensorflow.log_model(tf_saved_model_dir='model_folder/',\n",
    "                               tf_meta_graph_tags=['serve'],\n",
    "                               tf_signature_def_key='serving_default',\n",
    "                               artifact_path='tensor')\n",
    "    mlflow.log_artifact('diabetes_data.csv')\n",
    "    mlflow.end_run()\n",
    "   \n",
    "\n",
    "\n",
    "print('training done ')\n",
    "\n",
    "\n",
    "\n",
    "\n",
    "\n"
   ]
  },
  {
   "cell_type": "code",
   "execution_count": 2,
   "id": "dental-hepatitis",
   "metadata": {},
   "outputs": [],
   "source": [
    "import aif360\n",
    "from aif360.datasets import BinaryLabelDataset\n",
    "from aif360.metrics import ClassificationMetric"
   ]
  },
  {
   "cell_type": "code",
   "execution_count": null,
   "id": "elect-projector",
   "metadata": {},
   "outputs": [],
   "source": []
  }
 ],
 "metadata": {
  "kernelspec": {
   "display_name": "Python 3",
   "language": "python",
   "name": "python3"
  },
  "language_info": {
   "codemirror_mode": {
    "name": "ipython",
    "version": 3
   },
   "file_extension": ".py",
   "mimetype": "text/x-python",
   "name": "python",
   "nbconvert_exporter": "python",
   "pygments_lexer": "ipython3",
   "version": "3.8.6"
  }
 },
 "nbformat": 4,
 "nbformat_minor": 5
}
